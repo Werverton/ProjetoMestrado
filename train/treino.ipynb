{
 "cells": [
  {
   "cell_type": "code",
   "execution_count": null,
   "metadata": {},
   "outputs": [
    {
     "ename": "",
     "evalue": "",
     "output_type": "error",
     "traceback": [
      "\u001b[1;31mJupyter cannot be started. Error attempting to locate Jupyter: Running cells with 'Python 3.6.2 64-bit ('3.6.2')' requires jupyter package.\n",
      "Run the following command to install 'jupyter and notebook' into the Python environment. \n",
      "Command: 'python -m pip install jupyter notebook -U\n",
      "or\n",
      "conda install jupyter notebook -U'\n",
      "Click <a href='https://aka.ms/installJupyterForVSCode'>here</a> for more info."
     ]
    }
   ],
   "source": [
    "#vamos usar a versão 3.6.2 do python, pois nessa versão é possível instalar o tf 1.12\n",
    "import tensorflow as tf\n",
    "print(tf.__version__)\n",
    "import json\n",
    "import numpy as np\n",
    "import os\n",
    "import pickle\n",
    "import logging\n",
    "logging.basicConfig(format=\"%(asctime) -15s %(message)s\")\n",
    "import sys\n",
    "print(sys.version)\n",
    "import queue\n",
    "import shutil\n",
    "import threading\n",
    "import random\n",
    "import time"
   ]
  },
  {
   "cell_type": "code",
   "execution_count": null,
   "metadata": {},
   "outputs": [
    {
     "ename": "",
     "evalue": "",
     "output_type": "error",
     "traceback": [
      "\u001b[1;31mJupyter cannot be started. Error attempting to locate Jupyter: Running cells with 'Python 3.6.2 64-bit ('3.6.2')' requires jupyter package.\n",
      "Run the following command to install 'jupyter and notebook' into the Python environment. \n",
      "Command: 'python -m pip install jupyter notebook -U\n",
      "or\n",
      "conda install jupyter notebook -U'\n",
      "Click <a href='https://aka.ms/installJupyterForVSCode'>here</a> for more info."
     ]
    }
   ],
   "source": [
    "config_json = {\n",
    "    \"training_data_dir\": \"/home/werverton/DATA/pickle_files\",\n",
    "    \"training_data_dir_test\": \"/home/werverton/DATA/pickle_files_test\",\n",
    "    \"validation_data_dir\": \"/home/werverton/DATA/validation_data\",\n",
    "    \"log_data_dir\": \"/home/werverton/DATA/training_log\",\n",
    "\n",
    "    \"training_dim\": 2,\n",
    "    \"predicting_dim\": 1,\n",
    "    \"total_interacts\": 7,\n",
    "\n",
    "    \"boundary_width\": 1,\n",
    "\n",
    "    \"downscale_dim\": [180, 320],\n",
    "    \"data_augmentation_threshold\": 1,\n",
    "\n",
    "    \"dataset_threads\": 100,\n",
    "    \"batch_size\": 64,\n",
    "    \"frame_num\": 4,\n",
    "\n",
    "    \"learning_rate\": 0.01,\n",
    "    \"weight_decay\": 0.001,\n",
    "    \"log_step\": 200,\n",
    "    \"snapshot_step\": 5000,\n",
    "    \"max_iter\": 500000,\n",
    "\n",
    "    \"embedding_model\": \"model_495000.ckpt\",\n",
    "    \"embedding_dir\": \"/home/werverton/DATA/embedding\"\n",
    "}\n",
    "\n"
   ]
  },
  {
   "cell_type": "code",
   "execution_count": null,
   "metadata": {},
   "outputs": [
    {
     "ename": "",
     "evalue": "",
     "output_type": "error",
     "traceback": [
      "\u001b[1;31mJupyter cannot be started. Error attempting to locate Jupyter: Running cells with 'Python 3.6.2 64-bit ('3.6.2')' requires jupyter package.\n",
      "Run the following command to install 'jupyter and notebook' into the Python environment. \n",
      "Command: 'python -m pip install jupyter notebook -U\n",
      "or\n",
      "conda install jupyter notebook -U'\n",
      "Click <a href='https://aka.ms/installJupyterForVSCode'>here</a> for more info."
     ]
    }
   ],
   "source": [
    "class Loader():\n",
    "    \"\"\"Basic data loader\n",
    "    \"\"\"\n",
    "    def __init__(self, config_json):\n",
    "        self.x_dim, self.y_dim = config_json[\"downscale_dim\"]\n",
    "        self.training_dim = config_json[\"training_dim\"]\n",
    "        self.predicting_dim = config_json[\"predicting_dim\"]\n",
    "        self.total_interacts = config_json[\"total_interacts\"]\n",
    "        self.training_data_dir = config_json[\"training_data_dir\"]\n",
    "        self.logger = logging.getLogger(\"loader\")\n",
    "        self.logger.setLevel(logging.INFO)\n",
    "\n",
    "    def next_batch(self):\n",
    "        pass"
   ]
  },
  {
   "cell_type": "code",
   "execution_count": null,
   "metadata": {},
   "outputs": [
    {
     "ename": "",
     "evalue": "",
     "output_type": "error",
     "traceback": [
      "\u001b[1;31mJupyter cannot be started. Error attempting to locate Jupyter: Running cells with 'Python 3.6.2 64-bit ('3.6.2')' requires jupyter package.\n",
      "Run the following command to install 'jupyter and notebook' into the Python environment. \n",
      "Command: 'python -m pip install jupyter notebook -U\n",
      "or\n",
      "conda install jupyter notebook -U'\n",
      "Click <a href='https://aka.ms/installJupyterForVSCode'>here</a> for more info."
     ]
    }
   ],
   "source": [
    "class MultipleScreenLoader(Loader):\n",
    "    \"\"\"Normal multiple screen data loader, in contrast to debug data loader\n",
    "    \"\"\"\n",
    "    def __init__(self, config_json, load_text=False):\n",
    "        super().__init__(config_json)\n",
    "        self.dataset_threads = config_json[\"dataset_threads\"]\n",
    "        self.batch_size = config_json[\"batch_size\"]\n",
    "        self.frame_num = config_json[\"frame_num\"]\n",
    "        self.data_files = next(os.walk(self.training_data_dir))[2]#alterei aqui tirando a variável\n",
    "        # self.data_files = [\"jp.naver.linecard.android.pickle\",\n",
    "        #                    \"co.brainly.pickle\"]\n",
    "        self.data_paths = [os.path.join(self.training_data_dir, x) for x in self.data_files]\n",
    "        self.data_queue = queue.Queue()\n",
    "        self.path_queue = queue.Queue()\n",
    "        self.epochs = -1\n",
    "        self.loading_thread = None\n",
    "        self.loading_thread_result = None\n",
    "        self.loading_thread_out = None\n",
    "        self.produce_threshold = 10000\n",
    "        self.stopped = False\n",
    "        self.load_text = load_text\n",
    "\n",
    "    def get_current_epoch(self):\n",
    "        return self.epochs\n",
    "\n",
    "    def reload_paths(self):\n",
    "        self.epochs += 1\n",
    "        self.logger.info(\"epoch: %d\", self.epochs)\n",
    "        random.shuffle(self.data_paths)\n",
    "        for data_path in self.data_paths:\n",
    "            self.path_queue.put(data_path)\n",
    "\n",
    "    def load_pickles(self, data_paths):\n",
    "        data_item_list = []\n",
    "        for data_path in data_paths:\n",
    "            with open(data_path, \"rb\") as f:\n",
    "                input_data = pickle.load(f)\n",
    "            # assemble frames\n",
    "            # do zero padding before the first image\n",
    "            for trace_key in input_data:\n",
    "                image_num = len(input_data[trace_key])\n",
    "                \n",
    "                if image_num == 0:\n",
    "                    continue\n",
    "                stacked_images = np.stack([np.zeros_like(input_data[trace_key][0][0], dtype=np.float32)] * (self.frame_num - 1) + \\\n",
    "                                          [x[0] for x in input_data[trace_key]], axis=0)\n",
    "                print(\"stacked: \",stacked_images)\n",
    "                images = [stacked_images[i:i + self.frame_num].copy() for i in range(image_num)]\n",
    "                #print(type(images))\n",
    "                #print(images)\n",
    "                # for each image, clear last heatmaps\n",
    "                for image in images:\n",
    "                    #print(\"one image: \",image)\n",
    "                    image[self.frame_num - 1, :, :, -self.predicting_dim:] = 0.0\n",
    "                    image -= 0.5\n",
    "                    # for i in range(self.frame_num):\n",
    "                    #     visualize_data(image[i])\n",
    "\n",
    "                heatmaps = [x[0][:,:,-self.predicting_dim:].copy() for x in input_data[trace_key]]\n",
    "                interacts = np.split(np.eye(self.total_interacts)[[x[1][\"interact_type\"] for x in input_data[trace_key]]],\n",
    "                                     image_num, axis=0)\n",
    "\n",
    "                if self.load_text:\n",
    "                    input_texts = []\n",
    "                    for x in input_data[trace_key]:\n",
    "                        if \"text\" in x[1]:\n",
    "                            input_texts.append(x[1][\"text\"])\n",
    "                        else:\n",
    "                            input_texts.append(None)\n",
    "                    zipped_data = zip(images, heatmaps, interacts, input_texts)\n",
    "                else:\n",
    "                    zipped_data = zip(images, heatmaps, interacts)\n",
    "\n",
    "                for data_item in zipped_data:\n",
    "                    data_item_list.append(data_item)\n",
    "        rand_idx = list(range(len(data_item_list)))\n",
    "        random.shuffle(rand_idx)\n",
    "        for i in rand_idx:\n",
    "            self.data_queue.put(data_item_list[i])\n",
    "\n",
    "    def next_batch_producer(self):\n",
    "        # always try to load data when < threshold\n",
    "        # poll check threshold\n",
    "        while not self.stopped:\n",
    "            if self.data_queue.qsize() < self.produce_threshold:\n",
    "                paths_to_load = []\n",
    "                for i in range(min(self.dataset_threads, len(self.data_paths))):\n",
    "                    if self.path_queue.empty():\n",
    "                        self.reload_paths()\n",
    "                    paths_to_load.append(self.path_queue.get())\n",
    "                    # self.logger.info(\"loading: %s\", paths_to_load[-1])\n",
    "                self.load_pickles(paths_to_load)\n",
    "            time.sleep(1)\n",
    "\n",
    "    def next_batch_consumer(self):\n",
    "        # always try to get data\n",
    "        batch_image_list = []\n",
    "        batch_heatmap_list = []\n",
    "        batch_interact_list = []\n",
    "        if self.load_text:\n",
    "            batch_input_text_list = []\n",
    "        for i in range(self.batch_size):\n",
    "            if self.load_text:\n",
    "                image, heatmap, interact, input_text = self.data_queue.get()\n",
    "            else:\n",
    "                image, heatmap, interact = self.data_queue.get()\n",
    "            batch_image_list.append(image)\n",
    "            batch_heatmap_list.append(heatmap)\n",
    "            batch_interact_list.append(interact)\n",
    "            if self.load_text:\n",
    "                batch_input_text_list.append(input_text)\n",
    "        if self.load_text:\n",
    "            return (np.concatenate(batch_image_list, axis=0), \\\n",
    "                    np.stack(batch_heatmap_list, axis=0), \\\n",
    "                    np.concatenate(batch_interact_list, axis=0), \\\n",
    "                    batch_input_text_list)\n",
    "        else:\n",
    "            return (np.concatenate(batch_image_list, axis=0), \\\n",
    "                    np.stack(batch_heatmap_list, axis=0), \\\n",
    "                    np.concatenate(batch_interact_list, axis=0))\n",
    "\n",
    "    def next_batch(self):\n",
    "        if self.loading_thread is None:\n",
    "            self.loading_thread = threading.Thread(target=self.next_batch_producer)\n",
    "            self.loading_thread.start()\n",
    "        return self.next_batch_consumer()\n",
    "\n",
    "    def stop(self):\n",
    "        self.stopped = True"
   ]
  },
  {
   "cell_type": "code",
   "execution_count": null,
   "metadata": {},
   "outputs": [
    {
     "ename": "",
     "evalue": "",
     "output_type": "error",
     "traceback": [
      "\u001b[1;31mJupyter cannot be started. Error attempting to locate Jupyter: Running cells with 'Python 3.6.2 64-bit ('3.6.2')' requires jupyter package.\n",
      "Run the following command to install 'jupyter and notebook' into the Python environment. \n",
      "Command: 'python -m pip install jupyter notebook -U\n",
      "or\n",
      "conda install jupyter notebook -U'\n",
      "Click <a href='https://aka.ms/installJupyterForVSCode'>here</a> for more info."
     ]
    }
   ],
   "source": [
    "class BaseModel():\n",
    "    \"\"\"Base model\n",
    "       Build CNN and LSTM units\n",
    "    \"\"\"\n",
    "    def __init__(self, config_json, training=True):\n",
    "        self.x_dim, self.y_dim = config_json[\"downscale_dim\"]\n",
    "        self.training_dim = config_json[\"training_dim\"]\n",
    "        self.predicting_dim = config_json[\"predicting_dim\"]\n",
    "        self.total_channels = self.training_dim + self.predicting_dim\n",
    "        self.total_interacts = config_json[\"total_interacts\"]\n",
    "        if training:\n",
    "            self.weight_decay = config_json[\"weight_decay\"]\n",
    "            self.batch_size = config_json[\"batch_size\"]\n",
    "            self.keep_prob = 0.5\n",
    "        else:\n",
    "            self.weight_decay = 0.0\n",
    "            self.batch_size = 1\n",
    "            self.keep_prob = 1.0\n",
    "        self.regularizer = tf.contrib.layers.l2_regularizer(scale=self.weight_decay)\n",
    "\n",
    "        self.input_images = None\n",
    "        self.true_heats = tf.placeholder(dtype=tf.float32,\n",
    "                                         shape=(None, self.x_dim, self.y_dim, self.predicting_dim))\n",
    "        self.true_interacts = tf.placeholder(dtype=tf.float32,\n",
    "                                             shape=(None, self.total_interacts))\n",
    "\n",
    "        # assign later\n",
    "        self.heatmap_out = None\n",
    "        self.interact_out = None\n",
    "\n",
    "    def get_feed_dict(self, images, heatmaps, interacts):\n",
    "        return {\n",
    "            self.input_images: images,\n",
    "            self.true_heats: heatmaps,\n",
    "            self.true_interacts: interacts\n",
    "        }\n",
    "\n",
    "    def build_cnn(self):\n",
    "        # First generate low-resolution heatmap\n",
    "        # 180x320\n",
    "        self.conv1 = tf.layers.conv2d(inputs=self.input_images,\n",
    "                                      filters=16,\n",
    "                                      kernel_size=3,\n",
    "                                      padding=\"same\",\n",
    "                                      activation=tf.nn.relu,\n",
    "                                      kernel_regularizer=self.regularizer,\n",
    "                                      bias_regularizer=self.regularizer,\n",
    "                                      name=\"conv1\")\n",
    "        self.pool1 = tf.layers.max_pooling2d(inputs=self.conv1,\n",
    "                                             pool_size=2,\n",
    "                                             strides=2,\n",
    "                                             name=\"pool1\")\n",
    "        # 90x160\n",
    "        self.conv2 = tf.layers.conv2d(inputs=self.pool1,\n",
    "                                      filters=32,\n",
    "                                      kernel_size=3,\n",
    "                                      padding=\"same\",\n",
    "                                      activation=tf.nn.relu,\n",
    "                                      kernel_regularizer=self.regularizer,\n",
    "                                      bias_regularizer=self.regularizer,\n",
    "                                      name=\"conv2\")\n",
    "        self.pool2 = tf.layers.max_pooling2d(inputs=self.conv2,\n",
    "                                             pool_size=2,\n",
    "                                             strides=2,\n",
    "                                             name=\"pool2\")\n",
    "        # 45x80\n",
    "        self.conv3 = tf.layers.conv2d(inputs=self.pool2,\n",
    "                                      filters=64,\n",
    "                                      kernel_size=3,\n",
    "                                      padding=\"same\",\n",
    "                                      activation=tf.nn.relu,\n",
    "                                      kernel_regularizer=self.regularizer,\n",
    "                                      bias_regularizer=self.regularizer,\n",
    "                                      name=\"conv3\")\n",
    "        self.pool3 = tf.layers.max_pooling2d(inputs=self.conv3,\n",
    "                                             pool_size=2,\n",
    "                                             strides=2,\n",
    "                                             padding=\"same\",\n",
    "                                             name=\"pool3\")\n",
    "        # 23x40\n",
    "        self.conv4 = tf.layers.conv2d(inputs=self.pool3,\n",
    "                                      filters=64,\n",
    "                                      kernel_size=3,\n",
    "                                      padding=\"same\",\n",
    "                                      activation=tf.nn.relu,\n",
    "                                      kernel_regularizer=self.regularizer,\n",
    "                                      bias_regularizer=self.regularizer,\n",
    "                                      name=\"conv4\")\n",
    "        self.pool4 = tf.layers.max_pooling2d(inputs=self.conv4,\n",
    "                                             pool_size=2,\n",
    "                                             strides=2,\n",
    "                                             padding=\"same\",\n",
    "                                             name=\"pool4\")\n",
    "        # 12x20\n",
    "        self.conv5 = tf.layers.conv2d(inputs=self.pool4,\n",
    "                                      filters=64,\n",
    "                                      kernel_size=3,\n",
    "                                      padding=\"same\",\n",
    "                                      activation=tf.nn.relu,\n",
    "                                      kernel_regularizer=self.regularizer,\n",
    "                                      bias_regularizer=self.regularizer,\n",
    "                                      name=\"conv5\")\n",
    "        self.pool5 = tf.layers.max_pooling2d(inputs=self.conv5,\n",
    "                                             pool_size=2,\n",
    "                                             strides=2,\n",
    "                                             padding=\"same\",\n",
    "                                             name=\"pool5\")\n",
    "        # 6x10\n",
    "\n",
    "        # generate heats, i.e. single channel output\n",
    "        self.pool3_heat = tf.layers.conv2d(inputs=self.pool3,\n",
    "                                           filters=1,\n",
    "                                           kernel_size=1,\n",
    "                                           padding=\"same\",\n",
    "                                           activation=tf.nn.relu,\n",
    "                                           kernel_regularizer=self.regularizer,\n",
    "                                           bias_regularizer=self.regularizer,\n",
    "                                           name=\"pool3_heat\")\n",
    "        self.pool4_heat = tf.layers.conv2d(inputs=self.pool4,\n",
    "                                           filters=1,\n",
    "                                           kernel_size=1,\n",
    "                                           padding=\"same\",\n",
    "                                           activation=tf.nn.relu,\n",
    "                                           kernel_regularizer=self.regularizer,\n",
    "                                           bias_regularizer=self.regularizer,\n",
    "                                           name=\"pool4_heat\")\n",
    "        self.pool5_heat = tf.layers.conv2d(inputs=self.pool5,\n",
    "                                           filters=1,\n",
    "                                           kernel_size=1,\n",
    "                                           padding=\"same\",\n",
    "                                           activation=tf.nn.relu,\n",
    "                                           kernel_regularizer=self.regularizer,\n",
    "                                           bias_regularizer=self.regularizer,\n",
    "                                           name=\"pool5_heat\")\n",
    "\n",
    "    def build_loss(self):\n",
    "        # heatmap loss\n",
    "        self.heatmap_loss = tf.losses.softmax_cross_entropy(\n",
    "            tf.reshape(self.true_heats, [-1, 180 * 320]),\n",
    "            tf.reshape(self.heatmap_out, [-1, 180 * 320]))\n",
    "        self.predict_heatmaps = tf.reshape(tf.nn.softmax(\n",
    "            tf.reshape(self.heatmap_out, [-1, 180 * 320])), [-1, 180, 320, 1])\n",
    "        # interact loss\n",
    "        self.interact_out_flat = tf.reshape(self.interact_out, [-1, 6 * 10 * 1])\n",
    "        self.fc = tf.layers.dense(self.interact_out_flat,\n",
    "                                  self.total_interacts,\n",
    "                                  activation=tf.nn.relu,\n",
    "                                  kernel_regularizer=self.regularizer,\n",
    "                                  bias_regularizer=self.regularizer,\n",
    "                                  name=\"fc\")\n",
    "        # self.fc_dropout = tf.layers.dropout(self.fc, name=\"fc_dropout\")\n",
    "        self.interact_loss = tf.losses.softmax_cross_entropy(self.true_interacts,\n",
    "                                                             self.fc)\n",
    "                                                             # self.fc_dropout)\n",
    "        self.predict_interacts = tf.nn.softmax(self.fc)\n",
    "\n",
    "        # total loss\n",
    "        # self.total_loss = tf.add(self.heatmap_loss, self.interact_loss, name=\"total_loss\")\n",
    "        # self.total_loss = self.heatmap_loss\n",
    "        self.total_loss = tf.losses.get_total_loss()"
   ]
  },
  {
   "cell_type": "code",
   "execution_count": null,
   "metadata": {},
   "outputs": [
    {
     "ename": "",
     "evalue": "",
     "output_type": "error",
     "traceback": [
      "\u001b[1;31mJupyter cannot be started. Error attempting to locate Jupyter: Running cells with 'Python 3.6.2 64-bit ('3.6.2')' requires jupyter package.\n",
      "Run the following command to install 'jupyter and notebook' into the Python environment. \n",
      "Command: 'python -m pip install jupyter notebook -U\n",
      "or\n",
      "conda install jupyter notebook -U'\n",
      "Click <a href='https://aka.ms/installJupyterForVSCode'>here</a> for more info."
     ]
    }
   ],
   "source": [
    "class MultipleScreenModel(BaseModel):\n",
    "    \"\"\"Model for processing single screenshot\n",
    "       Use conv-pool-de-conv for heatmap\n",
    "       Use conv-pool-fc for predicting\n",
    "\n",
    "       input: batch_num, x_dim, y_dim, channels\n",
    "    \"\"\"\n",
    "    def __init__(self, config_json, training=True):\n",
    "        super().__init__(config_json, training)\n",
    "        self.frame_num = config_json[\"frame_num\"]\n",
    "        self.input_images = tf.placeholder(dtype=tf.float32,\n",
    "                                           shape=(None, self.x_dim, self.y_dim,\n",
    "                                                  self.training_dim + self.predicting_dim))\n",
    "        self.build_cnn()\n",
    "        self.build_model()\n",
    "        self.build_loss()\n",
    "        if training:\n",
    "            self.build_summary()\n",
    "\n",
    "    def build_model(self):\n",
    "        # generate heats\n",
    "        # using three LSTMs at different resolutions\n",
    "        # from pool3, pool4 and pool5\n",
    "\n",
    "        # pool3_heat_in: item_num (how many series), frame_num, x_dim * y_dim\n",
    "        self.pool3_heat_in = tf.reshape(self.pool3_heat, [-1, self.frame_num, 23 * 40])\n",
    "        self.pool4_heat_in = tf.reshape(self.pool4_heat, [-1, self.frame_num, 12 * 20])\n",
    "        self.pool5_heat_in = tf.reshape(self.pool5_heat, [-1, self.frame_num, 6 * 10])\n",
    "\n",
    "        # pool3_heat_out: item_num (how many series), x_dim, y_dim\n",
    "        self.pool3_heat_out = tf.add(\n",
    "            tf.reshape(\n",
    "            tf.keras.layers.LSTM(units=23 * 40, dropout=self.keep_prob)(self.pool3_heat_in),\n",
    "            # tf.keras.layers.LSTM(units=23 * 40)(self.pool3_heat_in),\n",
    "            [-1, 23, 40, 1]),\n",
    "            tf.reshape(self.pool3_heat,\n",
    "            [self.batch_size, self.frame_num, 23, 40, 1])[:, self.frame_num - 1, :,:,:])\n",
    "        self.pool4_heat_out = tf.add(tf.reshape(\n",
    "            tf.keras.layers.LSTM(units=12 * 20, dropout=self.keep_prob)(self.pool4_heat_in),\n",
    "            # tf.keras.layers.LSTM(units=12 * 20)(self.pool4_heat_in),\n",
    "            [-1, 12, 20, 1]),\n",
    "            tf.reshape(self.pool4_heat,\n",
    "            [self.batch_size, self.frame_num, 12, 20, 1])[:, self.frame_num - 1, :,:,:])\n",
    "        self.pool5_heat_out = tf.add(tf.reshape(\n",
    "            tf.keras.layers.LSTM(units=6 * 10, dropout=self.keep_prob)(self.pool5_heat_in),\n",
    "            # tf.keras.layers.LSTM(units=6 * 10)(self.pool5_heat_in),\n",
    "            [-1, 6, 10, 1]),\n",
    "            tf.reshape(self.pool5_heat,\n",
    "            [self.batch_size, self.frame_num, 6, 10, 1])[:, self.frame_num - 1, :,:,:])\n",
    "\n",
    "        # do upsampling\n",
    "        # 6x10\n",
    "        self.pool5_up_filters = tf.get_variable(\"pool5_up_filters\", [4, 4, 1, 1], regularizer=self.regularizer)\n",
    "        self.pool5_up = tf.nn.relu(tf.nn.conv2d_transpose(value=self.pool5_heat_out,\n",
    "                                   filter=self.pool5_up_filters,\n",
    "                                   output_shape=[self.batch_size, 12, 20, 1],\n",
    "                                   strides=[1, 2, 2, 1],\n",
    "                                   name=\"pool5_up\"))\n",
    "        # 12x20\n",
    "        self.pool4_heat_sum = tf.add(self.pool5_up, self.pool4_heat_out, name=\"pool4_heat_sum\")\n",
    "        self.pool4_up_filters = tf.get_variable(\"pool4_up_filters\", [4, 4, 1, 1], regularizer=self.regularizer)\n",
    "        self.pool4_up = tf.nn.relu(tf.nn.conv2d_transpose(value=self.pool4_heat_sum,\n",
    "                                   filter=self.pool4_up_filters,\n",
    "                                   output_shape=[self.batch_size, 23, 40, 1],\n",
    "                                   strides=[1, 2, 2, 1],\n",
    "                                   name=\"pool4_up\"))\n",
    "        # 23x40\n",
    "        self.pool3_heat_sum = tf.add(self.pool4_up, self.pool3_heat_out, name=\"pool3_heat_sum\")\n",
    "        self.pool3_up_filters = tf.get_variable(\"pool3_up_filters\", [16, 16, 1, 1], regularizer=self.regularizer)\n",
    "        self.pool3_up = tf.nn.relu(tf.nn.conv2d_transpose(value=self.pool3_heat_sum,\n",
    "                                   filter=self.pool3_up_filters,\n",
    "                                   output_shape=[self.batch_size, 180, 320, 1],\n",
    "                                   strides=[1, 8, 8, 1],\n",
    "                                   name=\"pool3_up\"))\n",
    "        self.heatmap_out = self.pool3_up\n",
    "        self.interact_out = self.pool5_heat_out\n",
    "\n",
    "    def build_summary(self):\n",
    "        # summary\n",
    "        tf.summary.scalar(\"heatmap_loss\", self.heatmap_loss)\n",
    "        tf.summary.scalar(\"interact_loss\", self.interact_loss)\n",
    "        tf.summary.scalar(\"total_loss\", self.total_loss)\n",
    "        tf.summary.image(\"input_images\",\n",
    "                         self.input_images,\n",
    "                         max_outputs=self.batch_size*self.frame_num)\n",
    "        \"\"\"\n",
    "        tf.summary.image(\"sample_heatmaps\",\n",
    "                         self.input_images[:,:,:,-self.predicting_dim:],\n",
    "                         max_outputs=self.batch_size*self.frame_num)\n",
    "        \"\"\"\n",
    "        tf.summary.image(\"true_heatmaps\",\n",
    "                         self.true_heats,\n",
    "                         max_outputs=self.batch_size)\n",
    "        tf.summary.image(\"predict_heatmaps\",\n",
    "                         self.predict_heatmaps,\n",
    "                         max_outputs=self.batch_size)\n",
    "        tf.summary.histogram(\"true_interacts\", self.true_interacts)\n",
    "        tf.summary.histogram(\"predict_interacts\", self.predict_interacts)\n",
    "\n",
    "        tf.summary.histogram(\"conv1_activation\", self.conv1)\n",
    "        tf.summary.histogram(\"conv2_activation\", self.conv2)\n",
    "        tf.summary.histogram(\"conv3_activation\", self.conv3)\n",
    "        tf.summary.histogram(\"conv4_activation\", self.conv4)\n",
    "        tf.summary.histogram(\"conv5_activation\", self.conv5)\n",
    "        tf.summary.histogram(\"conv1_gradient\", tf.gradients(self.total_loss, self.conv1))\n",
    "        tf.summary.histogram(\"conv2_gradient\", tf.gradients(self.total_loss, self.conv2))\n",
    "        tf.summary.histogram(\"conv3_gradient\", tf.gradients(self.total_loss, self.conv3))\n",
    "        tf.summary.histogram(\"conv4_gradient\", tf.gradients(self.total_loss, self.conv4))\n",
    "        tf.summary.histogram(\"conv5_gradient\", tf.gradients(self.total_loss, self.conv5))\n",
    "\n",
    "        tf.summary.histogram(\"pool3_heat_out_activation\", self.pool3_heat_out)\n",
    "        tf.summary.histogram(\"pool4_heat_out_activation\", self.pool4_heat_out)\n",
    "        tf.summary.histogram(\"pool5_heat_out_activation\", self.pool5_heat_out)\n",
    "        tf.summary.histogram(\"pool3_heat_out_gradient\", tf.gradients(self.total_loss, self.pool3_heat_out))\n",
    "        tf.summary.histogram(\"pool4_heat_out_gradient\", tf.gradients(self.total_loss, self.pool4_heat_out))\n",
    "        tf.summary.histogram(\"pool5_heat_out_gradient\", tf.gradients(self.total_loss, self.pool5_heat_out))\n",
    "\n",
    "        tf.summary.histogram(\"pool3_up_filters_data\", self.pool3_up_filters)\n",
    "        tf.summary.histogram(\"pool4_up_filters_data\", self.pool4_up_filters)\n",
    "        tf.summary.histogram(\"pool5_up_filters_data\", self.pool5_up_filters)\n",
    "        tf.summary.histogram(\"pool3_up_filters_gradient\", tf.gradients(self.total_loss, self.pool3_up_filters))\n",
    "        tf.summary.histogram(\"pool4_up_filters_gradient\", tf.gradients(self.total_loss, self.pool4_up_filters))\n",
    "        tf.summary.histogram(\"pool5_up_filters_gradient\", tf.gradients(self.total_loss, self.pool5_up_filters))\n"
   ]
  },
  {
   "cell_type": "code",
   "execution_count": null,
   "metadata": {},
   "outputs": [
    {
     "ename": "",
     "evalue": "",
     "output_type": "error",
     "traceback": [
      "\u001b[1;31mJupyter cannot be started. Error attempting to locate Jupyter: Running cells with 'Python 3.6.2 64-bit ('3.6.2')' requires jupyter package.\n",
      "Run the following command to install 'jupyter and notebook' into the Python environment. \n",
      "Command: 'python -m pip install jupyter notebook -U\n",
      "or\n",
      "conda install jupyter notebook -U'\n",
      "Click <a href='https://aka.ms/installJupyterForVSCode'>here</a> for more info."
     ]
    }
   ],
   "source": [
    "log_data_dir = config_json[\"log_data_dir\"]\n",
    "shutil.rmtree(log_data_dir)\n",
    "os.makedirs(log_data_dir)\n",
    "\n",
    "learning_rate = config_json[\"learning_rate\"]\n",
    "max_iter = config_json[\"max_iter\"]\n",
    "log_step = config_json[\"log_step\"]\n",
    "snapshot_step = config_json[\"snapshot_step\"]\n"
   ]
  },
  {
   "cell_type": "code",
   "execution_count": null,
   "metadata": {},
   "outputs": [
    {
     "ename": "",
     "evalue": "",
     "output_type": "error",
     "traceback": [
      "\u001b[1;31mJupyter cannot be started. Error attempting to locate Jupyter: Running cells with 'Python 3.6.2 64-bit ('3.6.2')' requires jupyter package.\n",
      "Run the following command to install 'jupyter and notebook' into the Python environment. \n",
      "Command: 'python -m pip install jupyter notebook -U\n",
      "or\n",
      "conda install jupyter notebook -U'\n",
      "Click <a href='https://aka.ms/installJupyterForVSCode'>here</a> for more info."
     ]
    }
   ],
   "source": [
    "data_loader = MultipleScreenLoader(config_json)\n",
    "model = MultipleScreenModel(config_json)"
   ]
  },
  {
   "cell_type": "code",
   "execution_count": null,
   "metadata": {},
   "outputs": [
    {
     "ename": "",
     "evalue": "",
     "output_type": "error",
     "traceback": [
      "\u001b[1;31mJupyter cannot be started. Error attempting to locate Jupyter: Running cells with 'Python 3.6.2 64-bit ('3.6.2')' requires jupyter package.\n",
      "Run the following command to install 'jupyter and notebook' into the Python environment. \n",
      "Command: 'python -m pip install jupyter notebook -U\n",
      "or\n",
      "conda install jupyter notebook -U'\n",
      "Click <a href='https://aka.ms/installJupyterForVSCode'>here</a> for more info."
     ]
    }
   ],
   "source": [
    "merged_summary = tf.summary.merge_all()"
   ]
  },
  {
   "cell_type": "code",
   "execution_count": null,
   "metadata": {},
   "outputs": [
    {
     "ename": "",
     "evalue": "",
     "output_type": "error",
     "traceback": [
      "\u001b[1;31mJupyter cannot be started. Error attempting to locate Jupyter: Running cells with 'Python 3.6.2 64-bit ('3.6.2')' requires jupyter package.\n",
      "Run the following command to install 'jupyter and notebook' into the Python environment. \n",
      "Command: 'python -m pip install jupyter notebook -U\n",
      "or\n",
      "conda install jupyter notebook -U'\n",
      "Click <a href='https://aka.ms/installJupyterForVSCode'>here</a> for more info."
     ]
    }
   ],
   "source": [
    "tf_config = tf.ConfigProto()\n",
    "tf_config.gpu_options.allow_growth= True"
   ]
  },
  {
   "cell_type": "code",
   "execution_count": null,
   "metadata": {},
   "outputs": [
    {
     "ename": "",
     "evalue": "",
     "output_type": "error",
     "traceback": [
      "\u001b[1;31mJupyter cannot be started. Error attempting to locate Jupyter: Running cells with 'Python 3.6.2 64-bit ('3.6.2')' requires jupyter package.\n",
      "Run the following command to install 'jupyter and notebook' into the Python environment. \n",
      "Command: 'python -m pip install jupyter notebook -U\n",
      "or\n",
      "conda install jupyter notebook -U'\n",
      "Click <a href='https://aka.ms/installJupyterForVSCode'>here</a> for more info."
     ]
    }
   ],
   "source": [
    "logger = logging.getLogger(\"train\")\n",
    "logger.setLevel(logging.INFO)"
   ]
  },
  {
   "cell_type": "code",
   "execution_count": null,
   "metadata": {},
   "outputs": [
    {
     "ename": "",
     "evalue": "",
     "output_type": "error",
     "traceback": [
      "\u001b[1;31mJupyter cannot be started. Error attempting to locate Jupyter: Running cells with 'Python 3.6.2 64-bit ('3.6.2')' requires jupyter package.\n",
      "Run the following command to install 'jupyter and notebook' into the Python environment. \n",
      "Command: 'python -m pip install jupyter notebook -U\n",
      "or\n",
      "conda install jupyter notebook -U'\n",
      "Click <a href='https://aka.ms/installJupyterForVSCode'>here</a> for more info."
     ]
    }
   ],
   "source": [
    "saver = tf.train.Saver(max_to_keep=None)"
   ]
  },
  {
   "cell_type": "code",
   "execution_count": null,
   "metadata": {},
   "outputs": [
    {
     "ename": "",
     "evalue": "",
     "output_type": "error",
     "traceback": [
      "\u001b[1;31mJupyter cannot be started. Error attempting to locate Jupyter: Running cells with 'Python 3.6.2 64-bit ('3.6.2')' requires jupyter package.\n",
      "Run the following command to install 'jupyter and notebook' into the Python environment. \n",
      "Command: 'python -m pip install jupyter notebook -U\n",
      "or\n",
      "conda install jupyter notebook -U'\n",
      "Click <a href='https://aka.ms/installJupyterForVSCode'>here</a> for more info."
     ]
    }
   ],
   "source": [
    "with tf.Session(config=tf_config) as sess:\n",
    "    train_writer = tf.summary.FileWriter(log_data_dir, sess.graph)\n",
    "\n",
    "    final_optimizer = tf.train.MomentumOptimizer(learning_rate, 0.9)\n",
    "\n",
    "    final_trainer = final_optimizer.minimize(model.total_loss)\n",
    "\n",
    "    sess.run(tf.global_variables_initializer())\n",
    "\n",
    "    for i in range(max_iter):\n",
    "        feed_dict = model.get_feed_dict(*data_loader.next_batch())\n",
    "\n",
    "        sess.run(final_trainer, feed_dict=feed_dict)\n",
    "\n",
    "        if i % snapshot_step == 0:\n",
    "            saved_path = saver.save(sess, os.path.join(log_data_dir, \"model_%d.ckpt\" % i))\n",
    "            logger.info(\"model saved in path: %s\" % saved_path)\n",
    "        \n",
    "        if i % log_step ==0:\n",
    "            summary = sess.run(merged_summary, feed_dict=feed_dict)\n",
    "            train_writer.add_summary(summary, i)\n",
    "            train_writer.flush()\n",
    "data_loader.stop()\n"
   ]
  },
  {
   "cell_type": "code",
   "execution_count": null,
   "metadata": {},
   "outputs": [
    {
     "ename": "",
     "evalue": "",
     "output_type": "error",
     "traceback": [
      "\u001b[1;31mJupyter cannot be started. Error attempting to locate Jupyter: Running cells with 'Python 3.6.2 64-bit ('3.6.2')' requires jupyter package.\n",
      "Run the following command to install 'jupyter and notebook' into the Python environment. \n",
      "Command: 'python -m pip install jupyter notebook -U\n",
      "or\n",
      "conda install jupyter notebook -U'\n",
      "Click <a href='https://aka.ms/installJupyterForVSCode'>here</a> for more info."
     ]
    }
   ],
   "source": []
  },
  {
   "cell_type": "code",
   "execution_count": null,
   "metadata": {},
   "outputs": [
    {
     "ename": "",
     "evalue": "",
     "output_type": "error",
     "traceback": [
      "\u001b[1;31mJupyter cannot be started. Error attempting to locate Jupyter: Running cells with 'Python 3.6.2 64-bit ('3.6.2')' requires jupyter package.\n",
      "Run the following command to install 'jupyter and notebook' into the Python environment. \n",
      "Command: 'python -m pip install jupyter notebook -U\n",
      "or\n",
      "conda install jupyter notebook -U'\n",
      "Click <a href='https://aka.ms/installJupyterForVSCode'>here</a> for more info."
     ]
    }
   ],
   "source": []
  },
  {
   "cell_type": "code",
   "execution_count": null,
   "metadata": {},
   "outputs": [
    {
     "ename": "",
     "evalue": "",
     "output_type": "error",
     "traceback": [
      "\u001b[1;31mJupyter cannot be started. Error attempting to locate Jupyter: Running cells with 'Python 3.6.2 64-bit ('3.6.2')' requires jupyter package.\n",
      "Run the following command to install 'jupyter and notebook' into the Python environment. \n",
      "Command: 'python -m pip install jupyter notebook -U\n",
      "or\n",
      "conda install jupyter notebook -U'\n",
      "Click <a href='https://aka.ms/installJupyterForVSCode'>here</a> for more info."
     ]
    }
   ],
   "source": []
  },
  {
   "cell_type": "code",
   "execution_count": null,
   "metadata": {},
   "outputs": [
    {
     "ename": "",
     "evalue": "",
     "output_type": "error",
     "traceback": [
      "\u001b[1;31mJupyter cannot be started. Error attempting to locate Jupyter: Running cells with 'Python 3.6.2 64-bit ('3.6.2')' requires jupyter package.\n",
      "Run the following command to install 'jupyter and notebook' into the Python environment. \n",
      "Command: 'python -m pip install jupyter notebook -U\n",
      "or\n",
      "conda install jupyter notebook -U'\n",
      "Click <a href='https://aka.ms/installJupyterForVSCode'>here</a> for more info."
     ]
    }
   ],
   "source": []
  },
  {
   "cell_type": "code",
   "execution_count": null,
   "metadata": {},
   "outputs": [
    {
     "ename": "",
     "evalue": "",
     "output_type": "error",
     "traceback": [
      "\u001b[1;31mJupyter cannot be started. Error attempting to locate Jupyter: Running cells with 'Python 3.6.2 64-bit ('3.6.2')' requires jupyter package.\n",
      "Run the following command to install 'jupyter and notebook' into the Python environment. \n",
      "Command: 'python -m pip install jupyter notebook -U\n",
      "or\n",
      "conda install jupyter notebook -U'\n",
      "Click <a href='https://aka.ms/installJupyterForVSCode'>here</a> for more info."
     ]
    }
   ],
   "source": []
  },
  {
   "cell_type": "code",
   "execution_count": null,
   "metadata": {},
   "outputs": [
    {
     "ename": "",
     "evalue": "",
     "output_type": "error",
     "traceback": [
      "\u001b[1;31mJupyter cannot be started. Error attempting to locate Jupyter: Running cells with 'Python 3.6.2 64-bit ('3.6.2')' requires jupyter package.\n",
      "Run the following command to install 'jupyter and notebook' into the Python environment. \n",
      "Command: 'python -m pip install jupyter notebook -U\n",
      "or\n",
      "conda install jupyter notebook -U'\n",
      "Click <a href='https://aka.ms/installJupyterForVSCode'>here</a> for more info."
     ]
    }
   ],
   "source": []
  },
  {
   "cell_type": "code",
   "execution_count": null,
   "metadata": {},
   "outputs": [
    {
     "ename": "",
     "evalue": "",
     "output_type": "error",
     "traceback": [
      "\u001b[1;31mJupyter cannot be started. Error attempting to locate Jupyter: Running cells with 'Python 3.6.2 64-bit ('3.6.2')' requires jupyter package.\n",
      "Run the following command to install 'jupyter and notebook' into the Python environment. \n",
      "Command: 'python -m pip install jupyter notebook -U\n",
      "or\n",
      "conda install jupyter notebook -U'\n",
      "Click <a href='https://aka.ms/installJupyterForVSCode'>here</a> for more info."
     ]
    }
   ],
   "source": []
  },
  {
   "cell_type": "code",
   "execution_count": null,
   "metadata": {},
   "outputs": [
    {
     "ename": "",
     "evalue": "",
     "output_type": "error",
     "traceback": [
      "\u001b[1;31mJupyter cannot be started. Error attempting to locate Jupyter: Running cells with 'Python 3.6.2 64-bit ('3.6.2')' requires jupyter package.\n",
      "Run the following command to install 'jupyter and notebook' into the Python environment. \n",
      "Command: 'python -m pip install jupyter notebook -U\n",
      "or\n",
      "conda install jupyter notebook -U'\n",
      "Click <a href='https://aka.ms/installJupyterForVSCode'>here</a> for more info."
     ]
    }
   ],
   "source": []
  },
  {
   "cell_type": "code",
   "execution_count": null,
   "metadata": {},
   "outputs": [
    {
     "ename": "",
     "evalue": "",
     "output_type": "error",
     "traceback": [
      "\u001b[1;31mJupyter cannot be started. Error attempting to locate Jupyter: Running cells with 'Python 3.6.2 64-bit ('3.6.2')' requires jupyter package.\n",
      "Run the following command to install 'jupyter and notebook' into the Python environment. \n",
      "Command: 'python -m pip install jupyter notebook -U\n",
      "or\n",
      "conda install jupyter notebook -U'\n",
      "Click <a href='https://aka.ms/installJupyterForVSCode'>here</a> for more info."
     ]
    }
   ],
   "source": []
  },
  {
   "cell_type": "code",
   "execution_count": null,
   "metadata": {},
   "outputs": [
    {
     "ename": "",
     "evalue": "",
     "output_type": "error",
     "traceback": [
      "\u001b[1;31mJupyter cannot be started. Error attempting to locate Jupyter: Running cells with 'Python 3.6.2 64-bit ('3.6.2')' requires jupyter package.\n",
      "Run the following command to install 'jupyter and notebook' into the Python environment. \n",
      "Command: 'python -m pip install jupyter notebook -U\n",
      "or\n",
      "conda install jupyter notebook -U'\n",
      "Click <a href='https://aka.ms/installJupyterForVSCode'>here</a> for more info."
     ]
    }
   ],
   "source": []
  },
  {
   "cell_type": "code",
   "execution_count": null,
   "metadata": {},
   "outputs": [
    {
     "ename": "",
     "evalue": "",
     "output_type": "error",
     "traceback": [
      "\u001b[1;31mJupyter cannot be started. Error attempting to locate Jupyter: Running cells with 'Python 3.6.2 64-bit ('3.6.2')' requires jupyter package.\n",
      "Run the following command to install 'jupyter and notebook' into the Python environment. \n",
      "Command: 'python -m pip install jupyter notebook -U\n",
      "or\n",
      "conda install jupyter notebook -U'\n",
      "Click <a href='https://aka.ms/installJupyterForVSCode'>here</a> for more info."
     ]
    }
   ],
   "source": [
    "\n"
   ]
  },
  {
   "cell_type": "code",
   "execution_count": null,
   "metadata": {},
   "outputs": [
    {
     "ename": "",
     "evalue": "",
     "output_type": "error",
     "traceback": [
      "\u001b[1;31mJupyter cannot be started. Error attempting to locate Jupyter: Running cells with 'Python 3.6.2 64-bit ('3.6.2')' requires jupyter package.\n",
      "Run the following command to install 'jupyter and notebook' into the Python environment. \n",
      "Command: 'python -m pip install jupyter notebook -U\n",
      "or\n",
      "conda install jupyter notebook -U'\n",
      "Click <a href='https://aka.ms/installJupyterForVSCode'>here</a> for more info."
     ]
    }
   ],
   "source": []
  },
  {
   "cell_type": "code",
   "execution_count": null,
   "metadata": {},
   "outputs": [
    {
     "ename": "",
     "evalue": "",
     "output_type": "error",
     "traceback": [
      "\u001b[1;31mJupyter cannot be started. Error attempting to locate Jupyter: Running cells with 'Python 3.6.2 64-bit ('3.6.2')' requires jupyter package.\n",
      "Run the following command to install 'jupyter and notebook' into the Python environment. \n",
      "Command: 'python -m pip install jupyter notebook -U\n",
      "or\n",
      "conda install jupyter notebook -U'\n",
      "Click <a href='https://aka.ms/installJupyterForVSCode'>here</a> for more info."
     ]
    }
   ],
   "source": []
  },
  {
   "cell_type": "code",
   "execution_count": null,
   "metadata": {},
   "outputs": [
    {
     "ename": "",
     "evalue": "",
     "output_type": "error",
     "traceback": [
      "\u001b[1;31mJupyter cannot be started. Error attempting to locate Jupyter: Running cells with 'Python 3.6.2 64-bit ('3.6.2')' requires jupyter package.\n",
      "Run the following command to install 'jupyter and notebook' into the Python environment. \n",
      "Command: 'python -m pip install jupyter notebook -U\n",
      "or\n",
      "conda install jupyter notebook -U'\n",
      "Click <a href='https://aka.ms/installJupyterForVSCode'>here</a> for more info."
     ]
    }
   ],
   "source": []
  },
  {
   "cell_type": "code",
   "execution_count": null,
   "metadata": {},
   "outputs": [
    {
     "ename": "",
     "evalue": "",
     "output_type": "error",
     "traceback": [
      "\u001b[1;31mJupyter cannot be started. Error attempting to locate Jupyter: Running cells with 'Python 3.6.2 64-bit ('3.6.2')' requires jupyter package.\n",
      "Run the following command to install 'jupyter and notebook' into the Python environment. \n",
      "Command: 'python -m pip install jupyter notebook -U\n",
      "or\n",
      "conda install jupyter notebook -U'\n",
      "Click <a href='https://aka.ms/installJupyterForVSCode'>here</a> for more info."
     ]
    }
   ],
   "source": []
  },
  {
   "cell_type": "code",
   "execution_count": null,
   "metadata": {},
   "outputs": [
    {
     "ename": "",
     "evalue": "",
     "output_type": "error",
     "traceback": [
      "\u001b[1;31mJupyter cannot be started. Error attempting to locate Jupyter: Running cells with 'Python 3.6.2 64-bit ('3.6.2')' requires jupyter package.\n",
      "Run the following command to install 'jupyter and notebook' into the Python environment. \n",
      "Command: 'python -m pip install jupyter notebook -U\n",
      "or\n",
      "conda install jupyter notebook -U'\n",
      "Click <a href='https://aka.ms/installJupyterForVSCode'>here</a> for more info."
     ]
    }
   ],
   "source": []
  },
  {
   "cell_type": "code",
   "execution_count": null,
   "metadata": {},
   "outputs": [
    {
     "ename": "",
     "evalue": "",
     "output_type": "error",
     "traceback": [
      "\u001b[1;31mJupyter cannot be started. Error attempting to locate Jupyter: Running cells with 'Python 3.6.2 64-bit ('3.6.2')' requires jupyter package.\n",
      "Run the following command to install 'jupyter and notebook' into the Python environment. \n",
      "Command: 'python -m pip install jupyter notebook -U\n",
      "or\n",
      "conda install jupyter notebook -U'\n",
      "Click <a href='https://aka.ms/installJupyterForVSCode'>here</a> for more info."
     ]
    }
   ],
   "source": [
    "heatmaps = np.stack([x[0][:,:,-self.predicting_dim:] for x in input_data[\"trace_0\"]], axis=0)\n",
    "    \n",
    "interacts = np.eye(self.total_interacts)[[x[1][\"interact_type\"] for x in input_data[\"trace_0\"]]]\n",
    "        "
   ]
  },
  {
   "cell_type": "code",
   "execution_count": null,
   "metadata": {},
   "outputs": [
    {
     "ename": "",
     "evalue": "",
     "output_type": "error",
     "traceback": [
      "\u001b[1;31mJupyter cannot be started. Error attempting to locate Jupyter: Running cells with 'Python 3.6.2 64-bit ('3.6.2')' requires jupyter package.\n",
      "Run the following command to install 'jupyter and notebook' into the Python environment. \n",
      "Command: 'python -m pip install jupyter notebook -U\n",
      "or\n",
      "conda install jupyter notebook -U'\n",
      "Click <a href='https://aka.ms/installJupyterForVSCode'>here</a> for more info."
     ]
    }
   ],
   "source": []
  },
  {
   "cell_type": "code",
   "execution_count": null,
   "metadata": {},
   "outputs": [
    {
     "ename": "",
     "evalue": "",
     "output_type": "error",
     "traceback": [
      "\u001b[1;31mJupyter cannot be started. Error attempting to locate Jupyter: Running cells with 'Python 3.6.2 64-bit ('3.6.2')' requires jupyter package.\n",
      "Run the following command to install 'jupyter and notebook' into the Python environment. \n",
      "Command: 'python -m pip install jupyter notebook -U\n",
      "or\n",
      "conda install jupyter notebook -U'\n",
      "Click <a href='https://aka.ms/installJupyterForVSCode'>here</a> for more info."
     ]
    }
   ],
   "source": [
    "\n"
   ]
  },
  {
   "cell_type": "code",
   "execution_count": null,
   "metadata": {},
   "outputs": [
    {
     "ename": "",
     "evalue": "",
     "output_type": "error",
     "traceback": [
      "\u001b[1;31mJupyter cannot be started. Error attempting to locate Jupyter: Running cells with 'Python 3.6.2 64-bit ('3.6.2')' requires jupyter package.\n",
      "Run the following command to install 'jupyter and notebook' into the Python environment. \n",
      "Command: 'python -m pip install jupyter notebook -U\n",
      "or\n",
      "conda install jupyter notebook -U'\n",
      "Click <a href='https://aka.ms/installJupyterForVSCode'>here</a> for more info."
     ]
    }
   ],
   "source": []
  },
  {
   "cell_type": "code",
   "execution_count": null,
   "metadata": {},
   "outputs": [
    {
     "ename": "",
     "evalue": "",
     "output_type": "error",
     "traceback": [
      "\u001b[1;31mJupyter cannot be started. Error attempting to locate Jupyter: Running cells with 'Python 3.6.2 64-bit ('3.6.2')' requires jupyter package.\n",
      "Run the following command to install 'jupyter and notebook' into the Python environment. \n",
      "Command: 'python -m pip install jupyter notebook -U\n",
      "or\n",
      "conda install jupyter notebook -U'\n",
      "Click <a href='https://aka.ms/installJupyterForVSCode'>here</a> for more info."
     ]
    }
   ],
   "source": []
  },
  {
   "cell_type": "code",
   "execution_count": null,
   "metadata": {},
   "outputs": [
    {
     "ename": "",
     "evalue": "",
     "output_type": "error",
     "traceback": [
      "\u001b[1;31mJupyter cannot be started. Error attempting to locate Jupyter: Running cells with 'Python 3.6.2 64-bit ('3.6.2')' requires jupyter package.\n",
      "Run the following command to install 'jupyter and notebook' into the Python environment. \n",
      "Command: 'python -m pip install jupyter notebook -U\n",
      "or\n",
      "conda install jupyter notebook -U'\n",
      "Click <a href='https://aka.ms/installJupyterForVSCode'>here</a> for more info."
     ]
    }
   ],
   "source": []
  },
  {
   "cell_type": "code",
   "execution_count": null,
   "metadata": {},
   "outputs": [
    {
     "ename": "",
     "evalue": "",
     "output_type": "error",
     "traceback": [
      "\u001b[1;31mJupyter cannot be started. Error attempting to locate Jupyter: Running cells with 'Python 3.6.2 64-bit ('3.6.2')' requires jupyter package.\n",
      "Run the following command to install 'jupyter and notebook' into the Python environment. \n",
      "Command: 'python -m pip install jupyter notebook -U\n",
      "or\n",
      "conda install jupyter notebook -U'\n",
      "Click <a href='https://aka.ms/installJupyterForVSCode'>here</a> for more info."
     ]
    }
   ],
   "source": []
  },
  {
   "cell_type": "code",
   "execution_count": null,
   "metadata": {},
   "outputs": [
    {
     "ename": "",
     "evalue": "",
     "output_type": "error",
     "traceback": [
      "\u001b[1;31mJupyter cannot be started. Error attempting to locate Jupyter: Running cells with 'Python 3.6.2 64-bit ('3.6.2')' requires jupyter package.\n",
      "Run the following command to install 'jupyter and notebook' into the Python environment. \n",
      "Command: 'python -m pip install jupyter notebook -U\n",
      "or\n",
      "conda install jupyter notebook -U'\n",
      "Click <a href='https://aka.ms/installJupyterForVSCode'>here</a> for more info."
     ]
    }
   ],
   "source": []
  },
  {
   "cell_type": "code",
   "execution_count": null,
   "metadata": {},
   "outputs": [
    {
     "ename": "",
     "evalue": "",
     "output_type": "error",
     "traceback": [
      "\u001b[1;31mJupyter cannot be started. Error attempting to locate Jupyter: Running cells with 'Python 3.6.2 64-bit ('3.6.2')' requires jupyter package.\n",
      "Run the following command to install 'jupyter and notebook' into the Python environment. \n",
      "Command: 'python -m pip install jupyter notebook -U\n",
      "or\n",
      "conda install jupyter notebook -U'\n",
      "Click <a href='https://aka.ms/installJupyterForVSCode'>here</a> for more info."
     ]
    }
   ],
   "source": []
  },
  {
   "cell_type": "code",
   "execution_count": null,
   "metadata": {},
   "outputs": [
    {
     "ename": "",
     "evalue": "",
     "output_type": "error",
     "traceback": [
      "\u001b[1;31mJupyter cannot be started. Error attempting to locate Jupyter: Running cells with 'Python 3.6.2 64-bit ('3.6.2')' requires jupyter package.\n",
      "Run the following command to install 'jupyter and notebook' into the Python environment. \n",
      "Command: 'python -m pip install jupyter notebook -U\n",
      "or\n",
      "conda install jupyter notebook -U'\n",
      "Click <a href='https://aka.ms/installJupyterForVSCode'>here</a> for more info."
     ]
    }
   ],
   "source": []
  },
  {
   "cell_type": "code",
   "execution_count": null,
   "metadata": {},
   "outputs": [
    {
     "ename": "",
     "evalue": "",
     "output_type": "error",
     "traceback": [
      "\u001b[1;31mJupyter cannot be started. Error attempting to locate Jupyter: Running cells with 'Python 3.6.2 64-bit ('3.6.2')' requires jupyter package.\n",
      "Run the following command to install 'jupyter and notebook' into the Python environment. \n",
      "Command: 'python -m pip install jupyter notebook -U\n",
      "or\n",
      "conda install jupyter notebook -U'\n",
      "Click <a href='https://aka.ms/installJupyterForVSCode'>here</a> for more info."
     ]
    }
   ],
   "source": []
  },
  {
   "cell_type": "code",
   "execution_count": null,
   "metadata": {},
   "outputs": [
    {
     "ename": "",
     "evalue": "",
     "output_type": "error",
     "traceback": [
      "\u001b[1;31mJupyter cannot be started. Error attempting to locate Jupyter: Running cells with 'Python 3.6.2 64-bit ('3.6.2')' requires jupyter package.\n",
      "Run the following command to install 'jupyter and notebook' into the Python environment. \n",
      "Command: 'python -m pip install jupyter notebook -U\n",
      "or\n",
      "conda install jupyter notebook -U'\n",
      "Click <a href='https://aka.ms/installJupyterForVSCode'>here</a> for more info."
     ]
    }
   ],
   "source": [
    "images = np.stack(arrays, axis=0).shape"
   ]
  },
  {
   "cell_type": "code",
   "execution_count": null,
   "metadata": {},
   "outputs": [
    {
     "ename": "",
     "evalue": "",
     "output_type": "error",
     "traceback": [
      "\u001b[1;31mJupyter cannot be started. Error attempting to locate Jupyter: Running cells with 'Python 3.6.2 64-bit ('3.6.2')' requires jupyter package.\n",
      "Run the following command to install 'jupyter and notebook' into the Python environment. \n",
      "Command: 'python -m pip install jupyter notebook -U\n",
      "or\n",
      "conda install jupyter notebook -U'\n",
      "Click <a href='https://aka.ms/installJupyterForVSCode'>here</a> for more info."
     ]
    }
   ],
   "source": [
    "print(images)"
   ]
  },
  {
   "cell_type": "code",
   "execution_count": null,
   "metadata": {},
   "outputs": [
    {
     "ename": "",
     "evalue": "",
     "output_type": "error",
     "traceback": [
      "\u001b[1;31mJupyter cannot be started. Error attempting to locate Jupyter: Running cells with 'Python 3.6.2 64-bit ('3.6.2')' requires jupyter package.\n",
      "Run the following command to install 'jupyter and notebook' into the Python environment. \n",
      "Command: 'python -m pip install jupyter notebook -U\n",
      "or\n",
      "conda install jupyter notebook -U'\n",
      "Click <a href='https://aka.ms/installJupyterForVSCode'>here</a> for more info."
     ]
    }
   ],
   "source": [
    "a = [['/home/werverton/DATA/traces/filtered_traces/jp.naver.linecard.android/trace_0/view_hierarchies/5.json', {'interact_type': 0}, (165, 102)],\n",
    "['/home/werverton/DATA/traces/filtered_traces/jp.naver.linecard.android/trace_0/view_hierarchies/13.json', {'interact_type': 0}, (168, 19)]]"
   ]
  },
  {
   "cell_type": "code",
   "execution_count": null,
   "metadata": {},
   "outputs": [
    {
     "ename": "",
     "evalue": "",
     "output_type": "error",
     "traceback": [
      "\u001b[1;31mJupyter cannot be started. Error attempting to locate Jupyter: Running cells with 'Python 3.6.2 64-bit ('3.6.2')' requires jupyter package.\n",
      "Run the following command to install 'jupyter and notebook' into the Python environment. \n",
      "Command: 'python -m pip install jupyter notebook -U\n",
      "or\n",
      "conda install jupyter notebook -U'\n",
      "Click <a href='https://aka.ms/installJupyterForVSCode'>here</a> for more info."
     ]
    }
   ],
   "source": [
    "array_a = np.array(a)"
   ]
  },
  {
   "cell_type": "code",
   "execution_count": null,
   "metadata": {},
   "outputs": [
    {
     "ename": "",
     "evalue": "",
     "output_type": "error",
     "traceback": [
      "\u001b[1;31mJupyter cannot be started. Error attempting to locate Jupyter: Running cells with 'Python 3.6.2 64-bit ('3.6.2')' requires jupyter package.\n",
      "Run the following command to install 'jupyter and notebook' into the Python environment. \n",
      "Command: 'python -m pip install jupyter notebook -U\n",
      "or\n",
      "conda install jupyter notebook -U'\n",
      "Click <a href='https://aka.ms/installJupyterForVSCode'>here</a> for more info."
     ]
    }
   ],
   "source": [
    "print(array_a)"
   ]
  },
  {
   "cell_type": "code",
   "execution_count": null,
   "metadata": {},
   "outputs": [
    {
     "ename": "",
     "evalue": "",
     "output_type": "error",
     "traceback": [
      "\u001b[1;31mJupyter cannot be started. Error attempting to locate Jupyter: Running cells with 'Python 3.6.2 64-bit ('3.6.2')' requires jupyter package.\n",
      "Run the following command to install 'jupyter and notebook' into the Python environment. \n",
      "Command: 'python -m pip install jupyter notebook -U\n",
      "or\n",
      "conda install jupyter notebook -U'\n",
      "Click <a href='https://aka.ms/installJupyterForVSCode'>here</a> for more info."
     ]
    }
   ],
   "source": [
    "print(array_a.shape)"
   ]
  },
  {
   "cell_type": "code",
   "execution_count": null,
   "metadata": {},
   "outputs": [
    {
     "ename": "",
     "evalue": "",
     "output_type": "error",
     "traceback": [
      "\u001b[1;31mJupyter cannot be started. Error attempting to locate Jupyter: Running cells with 'Python 3.6.2 64-bit ('3.6.2')' requires jupyter package.\n",
      "Run the following command to install 'jupyter and notebook' into the Python environment. \n",
      "Command: 'python -m pip install jupyter notebook -U\n",
      "or\n",
      "conda install jupyter notebook -U'\n",
      "Click <a href='https://aka.ms/installJupyterForVSCode'>here</a> for more info."
     ]
    }
   ],
   "source": [
    "images = np.stack(array_a, axis=0)"
   ]
  },
  {
   "cell_type": "code",
   "execution_count": null,
   "metadata": {},
   "outputs": [
    {
     "ename": "",
     "evalue": "",
     "output_type": "error",
     "traceback": [
      "\u001b[1;31mJupyter cannot be started. Error attempting to locate Jupyter: Running cells with 'Python 3.6.2 64-bit ('3.6.2')' requires jupyter package.\n",
      "Run the following command to install 'jupyter and notebook' into the Python environment. \n",
      "Command: 'python -m pip install jupyter notebook -U\n",
      "or\n",
      "conda install jupyter notebook -U'\n",
      "Click <a href='https://aka.ms/installJupyterForVSCode'>here</a> for more info."
     ]
    }
   ],
   "source": [
    "images.shape"
   ]
  },
  {
   "cell_type": "code",
   "execution_count": null,
   "metadata": {},
   "outputs": [
    {
     "ename": "",
     "evalue": "",
     "output_type": "error",
     "traceback": [
      "\u001b[1;31mJupyter cannot be started. Error attempting to locate Jupyter: Running cells with 'Python 3.6.2 64-bit ('3.6.2')' requires jupyter package.\n",
      "Run the following command to install 'jupyter and notebook' into the Python environment. \n",
      "Command: 'python -m pip install jupyter notebook -U\n",
      "or\n",
      "conda install jupyter notebook -U'\n",
      "Click <a href='https://aka.ms/installJupyterForVSCode'>here</a> for more info."
     ]
    }
   ],
   "source": [
    "images"
   ]
  },
  {
   "cell_type": "code",
   "execution_count": null,
   "metadata": {},
   "outputs": [
    {
     "ename": "",
     "evalue": "",
     "output_type": "error",
     "traceback": [
      "\u001b[1;31mJupyter cannot be started. Error attempting to locate Jupyter: Running cells with 'Python 3.6.2 64-bit ('3.6.2')' requires jupyter package.\n",
      "Run the following command to install 'jupyter and notebook' into the Python environment. \n",
      "Command: 'python -m pip install jupyter notebook -U\n",
      "or\n",
      "conda install jupyter notebook -U'\n",
      "Click <a href='https://aka.ms/installJupyterForVSCode'>here</a> for more info."
     ]
    }
   ],
   "source": [
    "np_2d = np.array([[[1.73, 1.68, 1.71, 1.89, 1.79],\n",
    "                  [65.4, 59.2, 63.6, 88.4,68.7],\n",
    "                  [1, 2 , 3, 4, 5 ]]])"
   ]
  },
  {
   "cell_type": "code",
   "execution_count": null,
   "metadata": {},
   "outputs": [
    {
     "ename": "",
     "evalue": "",
     "output_type": "error",
     "traceback": [
      "\u001b[1;31mJupyter cannot be started. Error attempting to locate Jupyter: Running cells with 'Python 3.6.2 64-bit ('3.6.2')' requires jupyter package.\n",
      "Run the following command to install 'jupyter and notebook' into the Python environment. \n",
      "Command: 'python -m pip install jupyter notebook -U\n",
      "or\n",
      "conda install jupyter notebook -U'\n",
      "Click <a href='https://aka.ms/installJupyterForVSCode'>here</a> for more info."
     ]
    }
   ],
   "source": [
    "np_2d[0,0]"
   ]
  },
  {
   "cell_type": "code",
   "execution_count": null,
   "metadata": {},
   "outputs": [
    {
     "ename": "",
     "evalue": "",
     "output_type": "error",
     "traceback": [
      "\u001b[1;31mJupyter cannot be started. Error attempting to locate Jupyter: Running cells with 'Python 3.6.2 64-bit ('3.6.2')' requires jupyter package.\n",
      "Run the following command to install 'jupyter and notebook' into the Python environment. \n",
      "Command: 'python -m pip install jupyter notebook -U\n",
      "or\n",
      "conda install jupyter notebook -U'\n",
      "Click <a href='https://aka.ms/installJupyterForVSCode'>here</a> for more info."
     ]
    }
   ],
   "source": []
  }
 ],
 "metadata": {
  "kernelspec": {
   "display_name": "Python 3.6.2 64-bit ('3.6.2')",
   "language": "python",
   "name": "python3"
  },
  "language_info": {
   "codemirror_mode": {
    "name": "ipython",
    "version": 3
   },
   "file_extension": ".py",
   "mimetype": "text/x-python",
   "name": "python",
   "nbconvert_exporter": "python",
   "pygments_lexer": "ipython3",
   "version": "3.6.2"
  },
  "orig_nbformat": 4,
  "vscode": {
   "interpreter": {
    "hash": "a59bbde66df7c93886c4f6567a42bc0e249b451f0927664f7434f183e51d4784"
   }
  }
 },
 "nbformat": 4,
 "nbformat_minor": 2
}
