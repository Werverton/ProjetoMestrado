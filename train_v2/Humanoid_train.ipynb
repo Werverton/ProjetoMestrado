{
 "cells": [
  {
   "cell_type": "code",
   "execution_count": 1,
   "id": "induced-dinner",
   "metadata": {
    "scrolled": false
   },
   "outputs": [
    {
     "name": "stderr",
     "output_type": "stream",
     "text": [
      "/home/werverton/.pyenv/versions/3.6.2/lib/python3.6/site-packages/tensorflow/python/framework/dtypes.py:523: FutureWarning: Passing (type, 1) or '1type' as a synonym of type is deprecated; in a future version of numpy, it will be understood as (type, (1,)) / '(1,)type'.\n",
      "  _np_qint8 = np.dtype([(\"qint8\", np.int8, 1)])\n",
      "/home/werverton/.pyenv/versions/3.6.2/lib/python3.6/site-packages/tensorflow/python/framework/dtypes.py:524: FutureWarning: Passing (type, 1) or '1type' as a synonym of type is deprecated; in a future version of numpy, it will be understood as (type, (1,)) / '(1,)type'.\n",
      "  _np_quint8 = np.dtype([(\"quint8\", np.uint8, 1)])\n",
      "/home/werverton/.pyenv/versions/3.6.2/lib/python3.6/site-packages/tensorflow/python/framework/dtypes.py:525: FutureWarning: Passing (type, 1) or '1type' as a synonym of type is deprecated; in a future version of numpy, it will be understood as (type, (1,)) / '(1,)type'.\n",
      "  _np_qint16 = np.dtype([(\"qint16\", np.int16, 1)])\n",
      "/home/werverton/.pyenv/versions/3.6.2/lib/python3.6/site-packages/tensorflow/python/framework/dtypes.py:526: FutureWarning: Passing (type, 1) or '1type' as a synonym of type is deprecated; in a future version of numpy, it will be understood as (type, (1,)) / '(1,)type'.\n",
      "  _np_quint16 = np.dtype([(\"quint16\", np.uint16, 1)])\n",
      "/home/werverton/.pyenv/versions/3.6.2/lib/python3.6/site-packages/tensorflow/python/framework/dtypes.py:527: FutureWarning: Passing (type, 1) or '1type' as a synonym of type is deprecated; in a future version of numpy, it will be understood as (type, (1,)) / '(1,)type'.\n",
      "  _np_qint32 = np.dtype([(\"qint32\", np.int32, 1)])\n",
      "/home/werverton/.pyenv/versions/3.6.2/lib/python3.6/site-packages/tensorflow/python/framework/dtypes.py:532: FutureWarning: Passing (type, 1) or '1type' as a synonym of type is deprecated; in a future version of numpy, it will be understood as (type, (1,)) / '(1,)type'.\n",
      "  np_resource = np.dtype([(\"resource\", np.ubyte, 1)])\n"
     ]
    },
    {
     "data": {
      "text/plain": [
       "{'training_data_dir': '/home/werverton/DATA/annotation_training_data',\n",
       " 'validation_data_dir': '/home/werverton/DATA/validation_data',\n",
       " 'log_data_dir': '/home/werverton/DATA/training_log',\n",
       " 'training_dim': 2,\n",
       " 'predicting_dim': 1,\n",
       " 'total_interacts': 7,\n",
       " 'boundary_width': 1,\n",
       " 'downscale_dim': [180, 320],\n",
       " 'data_augmentation_threshold': 1,\n",
       " 'dataset_threads': 100,\n",
       " 'batch_size': 64,\n",
       " 'frame_num': 4,\n",
       " 'learning_rate': 0.01,\n",
       " 'weight_decay': 0.001,\n",
       " 'log_step': 200,\n",
       " 'snapshot_step': 5000,\n",
       " 'max_iter': 500000,\n",
       " 'embedding_model': 'model_495000.ckpt',\n",
       " 'embedding_dir': '/home/werverton/DATA/embedding'}"
      ]
     },
     "execution_count": 1,
     "metadata": {},
     "output_type": "execute_result"
    }
   ],
   "source": [
    "import logging\n",
    "logging.basicConfig(format=\"%(asctime)-15s %(message)s\")\n",
    "import os\n",
    "import pickle\n",
    "import queue\n",
    "import random\n",
    "import threading\n",
    "import time\n",
    "\n",
    "import numpy as np\n",
    "import tensorflow as tf\n",
    "\n",
    "from matplotlib import pyplot as plt\n",
    "\n",
    "import json\n",
    "with open ('/home/werverton/Humanoid/train/config.json') as f:\n",
    "    config_json = json.load(f)\n",
    "    \n",
    "config_json"
   ]
  },
  {
   "cell_type": "code",
   "execution_count": 9,
   "id": "chemical-convertible",
   "metadata": {},
   "outputs": [],
   "source": [
    "x_dim, y_dim = config_json[\"downscale_dim\"]\n",
    "training_dim = config_json[\"training_dim\"]\n",
    "predicting_dim = config_json[\"predicting_dim\"]\n",
    "total_interacts = config_json[\"total_interacts\"]\n",
    "training_data_dir = config_json[\"training_data_dir\"]\n",
    "#logger = logging.getLogger(\"loader\")"
   ]
  },
  {
   "cell_type": "code",
   "execution_count": 22,
   "id": "saving-colleague",
   "metadata": {},
   "outputs": [],
   "source": [
    "data_file = \"jp.naver.lineplay.android.pickle\"\n",
    "data_path = os.path.join(training_data_dir, data_file)"
   ]
  },
  {
   "cell_type": "code",
   "execution_count": 24,
   "id": "smaller-ukraine",
   "metadata": {},
   "outputs": [],
   "source": [
    "with open(data_path, \"rb\") as f:\n",
    "    input_data = pickle.load(f)\n"
   ]
  },
  {
   "cell_type": "code",
   "execution_count": 30,
   "id": "minimal-wisconsin",
   "metadata": {},
   "outputs": [],
   "source": [
    "pickle_in = open(\"/home/werverton/DATA/annotation_training_data/us.mathlab.android.pickle\",\"rb\")"
   ]
  },
  {
   "cell_type": "code",
   "execution_count": 34,
   "id": "integral-czech",
   "metadata": {},
   "outputs": [
    {
     "ename": "EOFError",
     "evalue": "Ran out of input",
     "output_type": "error",
     "traceback": [
      "\u001b[0;31m---------------------------------------------------------------------------\u001b[0m",
      "\u001b[0;31mEOFError\u001b[0m                                  Traceback (most recent call last)",
      "\u001b[0;32m<ipython-input-34-b26aa4bb1222>\u001b[0m in \u001b[0;36m<module>\u001b[0;34m\u001b[0m\n\u001b[0;32m----> 1\u001b[0;31m \u001b[0mdicti\u001b[0m \u001b[0;34m=\u001b[0m \u001b[0mpickle\u001b[0m\u001b[0;34m.\u001b[0m\u001b[0mload\u001b[0m\u001b[0;34m(\u001b[0m\u001b[0mpickle_in\u001b[0m\u001b[0;34m)\u001b[0m\u001b[0;34m\u001b[0m\u001b[0m\n\u001b[0m\u001b[1;32m      2\u001b[0m \u001b[0mprint\u001b[0m\u001b[0;34m(\u001b[0m\u001b[0mdicti\u001b[0m\u001b[0;34m)\u001b[0m\u001b[0;34m\u001b[0m\u001b[0m\n",
      "\u001b[0;31mEOFError\u001b[0m: Ran out of input"
     ]
    }
   ],
   "source": [
    "dicti = pickle.load(pickle_in)\n",
    "print(dicti)"
   ]
  },
  {
   "cell_type": "code",
   "execution_count": 19,
   "id": "historical-frequency",
   "metadata": {},
   "outputs": [
    {
     "ename": "ValueError",
     "evalue": "need at least one array to stack",
     "output_type": "error",
     "traceback": [
      "\u001b[0;31m---------------------------------------------------------------------------\u001b[0m",
      "\u001b[0;31mValueError\u001b[0m                                Traceback (most recent call last)",
      "\u001b[0;32m<ipython-input-19-b73b1301138c>\u001b[0m in \u001b[0;36m<module>\u001b[0;34m\u001b[0m\n\u001b[1;32m      1\u001b[0m images = np.stack([x[0][:,:,:self.training_dim]\n\u001b[0;32m----> 2\u001b[0;31m                    for x in input_data[\"trace_0\"]], axis=0)\n\u001b[0m",
      "\u001b[0;32m<__array_function__ internals>\u001b[0m in \u001b[0;36mstack\u001b[0;34m(*args, **kwargs)\u001b[0m\n",
      "\u001b[0;32m~/.pyenv/versions/3.5.3/envs/myenv_3.5.3/lib/python3.5/site-packages/numpy/core/shape_base.py\u001b[0m in \u001b[0;36mstack\u001b[0;34m(arrays, axis, out)\u001b[0m\n\u001b[1;32m    420\u001b[0m     \u001b[0marrays\u001b[0m \u001b[0;34m=\u001b[0m \u001b[0;34m[\u001b[0m\u001b[0masanyarray\u001b[0m\u001b[0;34m(\u001b[0m\u001b[0marr\u001b[0m\u001b[0;34m)\u001b[0m \u001b[0;32mfor\u001b[0m \u001b[0marr\u001b[0m \u001b[0;32min\u001b[0m \u001b[0marrays\u001b[0m\u001b[0;34m]\u001b[0m\u001b[0;34m\u001b[0m\u001b[0m\n\u001b[1;32m    421\u001b[0m     \u001b[0;32mif\u001b[0m \u001b[0;32mnot\u001b[0m \u001b[0marrays\u001b[0m\u001b[0;34m:\u001b[0m\u001b[0;34m\u001b[0m\u001b[0m\n\u001b[0;32m--> 422\u001b[0;31m         \u001b[0;32mraise\u001b[0m \u001b[0mValueError\u001b[0m\u001b[0;34m(\u001b[0m\u001b[0;34m'need at least one array to stack'\u001b[0m\u001b[0;34m)\u001b[0m\u001b[0;34m\u001b[0m\u001b[0m\n\u001b[0m\u001b[1;32m    423\u001b[0m \u001b[0;34m\u001b[0m\u001b[0m\n\u001b[1;32m    424\u001b[0m     \u001b[0mshapes\u001b[0m \u001b[0;34m=\u001b[0m \u001b[0;34m{\u001b[0m\u001b[0marr\u001b[0m\u001b[0;34m.\u001b[0m\u001b[0mshape\u001b[0m \u001b[0;32mfor\u001b[0m \u001b[0marr\u001b[0m \u001b[0;32min\u001b[0m \u001b[0marrays\u001b[0m\u001b[0;34m}\u001b[0m\u001b[0;34m\u001b[0m\u001b[0m\n",
      "\u001b[0;31mValueError\u001b[0m: need at least one array to stack"
     ]
    }
   ],
   "source": [
    "images = np.stack([x[0][:,:,:training_dim]\n",
    "                   for x in input_data[\"trace_0\"]], axis=0)\n",
    "heatmaps = np.stack([x[0][:,:,-predicting_dim:]\n",
    "                     for x in input_data[\"trace_0\"]], axis=0)\n",
    "interacts = np.eye(total_interacts)[[x[1][\"interact_type\"] for x in input_data[\"trace_0\"]]]\n",
    "return images, heatmaps, interacts\n"
   ]
  },
  {
   "cell_type": "code",
   "execution_count": 2,
   "id": "working-gibson",
   "metadata": {},
   "outputs": [
    {
     "ename": "NameError",
     "evalue": "name 'os' is not defined",
     "output_type": "error",
     "traceback": [
      "\u001b[0;31m---------------------------------------------------------------------------\u001b[0m",
      "\u001b[0;31mNameError\u001b[0m                                 Traceback (most recent call last)",
      "\u001b[0;32m<ipython-input-2-170cd1f570ab>\u001b[0m in \u001b[0;36m<module>\u001b[0;34m\u001b[0m\n\u001b[1;32m      1\u001b[0m \u001b[0mdata_file\u001b[0m \u001b[0;34m=\u001b[0m \u001b[0;34m\"jp.naver.linecard.android.pickle\"\u001b[0m\u001b[0;34m\u001b[0m\u001b[0m\n\u001b[0;32m----> 2\u001b[0;31m \u001b[0mdata_path\u001b[0m \u001b[0;34m=\u001b[0m \u001b[0mos\u001b[0m\u001b[0;34m.\u001b[0m\u001b[0mpath\u001b[0m\u001b[0;34m.\u001b[0m\u001b[0mjoin\u001b[0m\u001b[0;34m(\u001b[0m\u001b[0mtraining_data_dir\u001b[0m\u001b[0;34m,\u001b[0m \u001b[0mdata_file\u001b[0m\u001b[0;34m)\u001b[0m\u001b[0;34m\u001b[0m\u001b[0m\n\u001b[0m",
      "\u001b[0;31mNameError\u001b[0m: name 'os' is not defined"
     ]
    }
   ],
   "source": []
  },
  {
   "cell_type": "code",
   "execution_count": 38,
   "id": "refined-botswana",
   "metadata": {},
   "outputs": [],
   "source": [
    "#tf_config = tf.ConfigProto()\n"
   ]
  },
  {
   "cell_type": "code",
   "execution_count": 1,
   "id": "worth-liberia",
   "metadata": {},
   "outputs": [
    {
     "ename": "NameError",
     "evalue": "name 'data_path' is not defined",
     "output_type": "error",
     "traceback": [
      "\u001b[0;31m---------------------------------------------------------------------------\u001b[0m",
      "\u001b[0;31mNameError\u001b[0m                                 Traceback (most recent call last)",
      "\u001b[0;32m<ipython-input-1-cd437f19dc14>\u001b[0m in \u001b[0;36m<module>\u001b[0;34m\u001b[0m\n\u001b[0;32m----> 1\u001b[0;31m \u001b[0;32mwith\u001b[0m \u001b[0mopen\u001b[0m\u001b[0;34m(\u001b[0m\u001b[0mdata_path\u001b[0m\u001b[0;34m,\u001b[0m \u001b[0;34m\"rb\"\u001b[0m\u001b[0;34m)\u001b[0m \u001b[0;32mas\u001b[0m \u001b[0mf\u001b[0m\u001b[0;34m:\u001b[0m\u001b[0;34m\u001b[0m\u001b[0m\n\u001b[0m\u001b[1;32m      2\u001b[0m     \u001b[0minput_data\u001b[0m \u001b[0;34m=\u001b[0m \u001b[0mpickle\u001b[0m\u001b[0;34m.\u001b[0m\u001b[0mload\u001b[0m\u001b[0;34m(\u001b[0m\u001b[0mf\u001b[0m\u001b[0;34m)\u001b[0m\u001b[0;34m\u001b[0m\u001b[0m\n\u001b[1;32m      3\u001b[0m     images = np.stack([x[0][:,:,:training_dim]\n\u001b[1;32m      4\u001b[0m                        for x in input_data[\"trace_0\"]], axis=0)\n\u001b[1;32m      5\u001b[0m     heatmaps = np.stack([x[0][:,:,-predicting_dim:]\n",
      "\u001b[0;31mNameError\u001b[0m: name 'data_path' is not defined"
     ]
    }
   ],
   "source": [
    "with open(data_path, \"rb\") as f:\n",
    "    input_data = pickle.load(f)\n",
    "    images = np.stack([x[0][:,:,:training_dim]\n",
    "                       for x in input_data[\"trace_0\"]], axis=0)\n",
    "    heatmaps = np.stack([x[0][:,:,-predicting_dim:]\n",
    "                         for x in input_data[\"trace_0\"]], axis=0)\n",
    "    interacts = np.eye(total_interacts)[[x[1][\"interact_type\"] for x in input_data[\"trace_0\"]]]\n"
   ]
  },
  {
   "cell_type": "code",
   "execution_count": 56,
   "id": "federal-broad",
   "metadata": {},
   "outputs": [
    {
     "ename": "NameError",
     "evalue": "name 'self' is not defined",
     "output_type": "error",
     "traceback": [
      "\u001b[0;31m---------------------------------------------------------------------------\u001b[0m",
      "\u001b[0;31mNameError\u001b[0m                                 Traceback (most recent call last)",
      "\u001b[0;32m<ipython-input-56-ae4ba5512984>\u001b[0m in \u001b[0;36m<module>\u001b[0;34m\u001b[0m\n\u001b[0;32m----> 1\u001b[0;31m \u001b[0mnext_batch\u001b[0m\u001b[0;34m(\u001b[0m\u001b[0mself\u001b[0m\u001b[0;34m)\u001b[0m\u001b[0;34m\u001b[0m\u001b[0m\n\u001b[0m",
      "\u001b[0;31mNameError\u001b[0m: name 'self' is not defined"
     ]
    }
   ],
   "source": []
  },
  {
   "cell_type": "code",
   "execution_count": 12,
   "id": "mathematical-headquarters",
   "metadata": {},
   "outputs": [
    {
     "name": "stdout",
     "output_type": "stream",
     "text": [
      "180 320\n"
     ]
    }
   ],
   "source": [
    "print(x_dim, y_dim)"
   ]
  },
  {
   "cell_type": "code",
   "execution_count": 11,
   "id": "alternate-telescope",
   "metadata": {},
   "outputs": [],
   "source": [
    "dic = {'valor1':1 , 'valor2': 2, 'valor3': 3}"
   ]
  },
  {
   "cell_type": "code",
   "execution_count": 5,
   "id": "printable-database",
   "metadata": {},
   "outputs": [
    {
     "data": {
      "text/plain": [
       "dict"
      ]
     },
     "execution_count": 5,
     "metadata": {},
     "output_type": "execute_result"
    }
   ],
   "source": [
    "type(dic)"
   ]
  },
  {
   "cell_type": "code",
   "execution_count": 7,
   "id": "artificial-guinea",
   "metadata": {},
   "outputs": [
    {
     "data": {
      "text/plain": [
       "2"
      ]
     },
     "execution_count": 7,
     "metadata": {},
     "output_type": "execute_result"
    }
   ],
   "source": [
    "dic['valor2']"
   ]
  },
  {
   "cell_type": "code",
   "execution_count": null,
   "id": "declared-salon",
   "metadata": {},
   "outputs": [],
   "source": []
  }
 ],
 "metadata": {
  "interpreter": {
   "hash": "a59bbde66df7c93886c4f6567a42bc0e249b451f0927664f7434f183e51d4784"
  },
  "kernelspec": {
   "display_name": "Python 3.5.3 64-bit ('myenv_3.5.3': pyenv)",
   "language": "python",
   "name": "python3"
  },
  "language_info": {
   "codemirror_mode": {
    "name": "ipython",
    "version": 3
   },
   "file_extension": ".py",
   "mimetype": "text/x-python",
   "name": "python",
   "nbconvert_exporter": "python",
   "pygments_lexer": "ipython3",
   "version": "3.6.2"
  }
 },
 "nbformat": 4,
 "nbformat_minor": 5
}
